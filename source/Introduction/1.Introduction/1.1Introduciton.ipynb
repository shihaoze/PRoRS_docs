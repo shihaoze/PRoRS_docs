{
 "cells": [
  {
   "cell_type": "markdown",
   "metadata": {},
   "source": [
    "# 1.1 课程介绍"
   ]
  },
  {
   "cell_type": "markdown",
   "metadata": {},
   "source": [
    "## 1.1.1 课程内容"
   ]
  },
  {
   "cell_type": "markdown",
   "metadata": {},
   "source": [
    "本课程是《遥感图像模式识别》这门课的实验课，是对于理论课程的补充。“模式识别”的部分本身比较复杂抽象，涉及的内容多。其中的某些方法甚至是经验性的结论，不容易得到完美的理论结果，所以这门实验课也是主要是偏向实践操作的，注重实际方法的运用与理解。课程的目标是，在学期结束的时候，可以实际独立运用适当的方法，如支持向量机、随机森林、神经网络，进行模式分类的整个流程。通过一系列的技术手段，得到一个满意的分类结果。实际的课程当中，会适当地补充一些理论推导。"
   ]
  },
  {
   "cell_type": "markdown",
   "metadata": {},
   "source": [
    "课程将使用模式识别的一系列经典算法，针对遥感图像数据，运用线性代数、概率论等知识对图像数据进行分类操作实践。这里的实践操作主要指的是：对数据的预处理、直观理解和观察，还有模型方法的综合运用。其中会涉及到编程方面的问题，但是不会特别复杂，都是已经成型的机器学习系统，所以不需要过多的代码。但是还会有少量的代码，会尽量把代码封装成可调用的形式，供大家调整参数，然后学习使用。"
   ]
  },
  {
   "cell_type": "markdown",
   "metadata": {},
   "source": [
    "## 1.1.2 主要参考资料"
   ]
  },
  {
   "cell_type": "markdown",
   "metadata": {},
   "source": [
    "1. 周志华 著.机器学习,北京:清华大学出版社,2016.\n",
    "2. Richard O. Duda, Peter E. Hart and David G. Stork, Pattern Classification (2nd Ed.), 1997.\n",
    "3. Trevor Hastie, Robert Tibshirani, Jerome Friedman, The Elements of Statistical Learning: Data Mining, Inference, and Prediction, 2009\n",
    "4. Jake VanderPlas, Python Data Science Handbook, 2016.\n",
    "5. Raschka, Sebastian. Python machine learning. Birmingham, UK: Packt Publishing, 2015.\n",
    "6. https://developers.google.cn/machine-learning/crash-course/\n",
    "7. ConVetJS: https://cs.stanford.edu/people/karpathy/convnetjs/\n",
    "8. 神经网络: https://cs.stanford.edu/people/karpathy/convnetjs/demo/classify2d.html\n",
    "9. SVM: https://cs.stanford.edu/~karpathy/svmjs/demo/\n",
    "10. 随机森林: https://cs.stanford.edu/~karpathy/svmjs/demo/demoforest.html"
   ]
  },
  {
   "cell_type": "markdown",
   "metadata": {},
   "source": [
    "## 1.1.3 答疑与联系方式"
   ]
  },
  {
   "cell_type": "markdown",
   "metadata": {},
   "source": [
    "**任课教师**\n",
    "\n",
    "唐  宏        tanghong@bnu.edu.cn\n",
    "\n",
    "杨乃森        yns@email.sdu.edu.cn   "
   ]
  },
  {
   "attachments": {},
   "cell_type": "markdown",
   "metadata": {},
   "source": [
    "**助教**\n",
    "\n",
    "徐朋磊    201921051188@mail.bnu.edu.cn\n",
    "\n",
    "胡一江    huyijiang@mail.bnu.edu.cn\n",
    "\n",
    "石浩泽    haoze.shi@icloud.com\n",
    "\n",
    "刘泽平    liuzeping@mail.bnu.edu.cn\n",
    "\n",
    "吕思清    lyusiqing@mail.bnu.edu.cn"
   ]
  },
  {
   "cell_type": "markdown",
   "metadata": {},
   "source": [
    "**QQ交流群**\n",
    "642765002"
   ]
  }
 ],
 "metadata": {
  "anaconda-cloud": {},
  "kernelspec": {
   "display_name": "Python 3",
   "language": "python",
   "name": "python3"
  },
  "language_info": {
   "codemirror_mode": {
    "name": "ipython",
    "version": 3
   },
   "file_extension": ".py",
   "mimetype": "text/x-python",
   "name": "python",
   "nbconvert_exporter": "python",
   "pygments_lexer": "ipython3",
   "version": "3.7.4"
  },
  "toc": {
   "base_numbering": 1,
   "nav_menu": {
    "height": "86px",
    "width": "252px"
   },
   "number_sections": false,
   "sideBar": true,
   "skip_h1_title": false,
   "title_cell": "Table of Contents",
   "title_sidebar": "Contents",
   "toc_cell": true,
   "toc_position": {},
   "toc_section_display": "block",
   "toc_window_display": true
  }
 },
 "nbformat": 4,
 "nbformat_minor": 1
}
